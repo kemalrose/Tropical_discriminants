{
 "cells": [
  {
   "cell_type": "code",
   "execution_count": 1,
   "id": "c38dfc81",
   "metadata": {},
   "outputs": [
    {
     "name": "stdout",
     "output_type": "stream",
     "text": [
      " -----    -----    -----      -      -----   \n",
      "|     |  |     |  |     |    | |    |     |  \n",
      "|     |  |        |         |   |   |     |  \n",
      "|     |   -----   |        |     |  |-----   \n",
      "|     |        |  |        |-----|  |   |    \n",
      "|     |  |     |  |     |  |     |  |    |   \n",
      " -----    -----    -----   -     -  -     -  \n",
      "\n",
      "...combining (and extending) ANTIC, GAP, Polymake and Singular\n",
      "Version\u001b[32m 0.6.1-DEV \u001b[39m... \n",
      " ... which comes with absolutely no warranty whatsoever\n",
      "Type: '?Oscar' for more information\n",
      "(c) 2019-2021 by The Oscar Development Team\n"
     ]
    },
    {
     "data": {
      "text/plain": [
       "interpolate_discr_symbolically (generic function with 1 method)"
      ]
     },
     "execution_count": 1,
     "metadata": {},
     "output_type": "execute_result"
    }
   ],
   "source": [
    "using Arpack, Oscar, HomotopyContinuation, LinearAlgebra\n",
    "using MultiFloats\n",
    "using GenericSVD\n",
    "using Plots\n",
    "include(\"get_vtx.jl\")\n",
    "include(\"get_newton.jl\")\n",
    "include(\"Rational_Discriminant.jl\")\n"
   ]
  },
  {
   "cell_type": "code",
   "execution_count": 7,
   "id": "96d8813d",
   "metadata": {},
   "outputs": [
    {
     "data": {
      "text/plain": [
       "3×6 Matrix{Int64}: …"
      ]
     },
     "execution_count": 7,
     "metadata": {},
     "output_type": "execute_result"
    }
   ],
   "source": [
    "\n",
    "\n",
    "A =\n",
    "[1 1 1 1 1 1;\n",
    "0 1 2 0 1 0;\n",
    "0 0 0 1 1 2]\n"
   ]
  },
  {
   "cell_type": "code",
   "execution_count": 11,
   "id": "cdfcd85d",
   "metadata": {},
   "outputs": [
    {
     "name": "stdout",
     "output_type": "stream",
     "text": [
      "1. Compute the Newton polytope P of the discriminant\n",
      "  0.066677 seconds (50.98 k allocations: 1.952 MiB)\n",
      "-----------------------------------------------------------------\n",
      "2. Find its lattice points\n",
      "  0.020825 seconds (1.47 k allocations: 12.297 KiB)\n",
      "   P has 5 lattice points\n",
      "   lifting the lattice points in 3-space to 6-space... \n",
      "  0.000096 seconds (362 allocations: 12.766 KiB)\n",
      "-----------------------------------------------------------------\n",
      "3. Construct the interpolation problem\n",
      "   points from Horn uniformization...\n",
      "  0.000092 seconds (2.54 k allocations: 61.750 KiB)\n",
      "-----------------------------------------------------------------\n",
      "   constructing Vandermonde matrix...\n",
      "  0.000029 seconds (368 allocations: 15.172 KiB)\n",
      "   Constructed a Vandermonde matrix of size (6, 5)\n",
      "-----------------------------------------------------------------\n",
      "4. Find floating point coefficients...\n",
      "Convert Vandermonde Matrix to OSCAR\n",
      "  0.000005 seconds (3 allocations: 624 bytes)\n",
      "Compute rational coeffs\n",
      "  0.000032 seconds (31 allocations: 1.898 KiB)\n",
      "-----------------------------------------------------------------\n",
      "1. Compute the Newton polytope P of the discriminant\n",
      "  0.061783 seconds (41.94 k allocations: 1.594 MiB)\n",
      "-----------------------------------------------------------------\n",
      "2. Find its lattice points\n",
      "  0.022709 seconds (1.49 k allocations: 12.406 KiB)\n",
      "   P has 5 lattice points\n",
      "   lifting the lattice points in 3-space to 6-space... \n",
      "  0.000139 seconds (362 allocations: 12.766 KiB)\n",
      "-----------------------------------------------------------------\n",
      "3. Construct the interpolation problem\n",
      "   points from Horn uniformization...\n",
      "  0.000861 seconds (7.88 k allocations: 383.531 KiB)\n",
      "-----------------------------------------------------------------\n",
      "   constructing Vandermonde matrix...\n",
      "   Constructed a Vandermonde matrix of size (35, 5)\n",
      "-----------------------------------------------------------------\n",
      "4. Find coefficients mod 373^1...\n",
      "-----------------------------------------------------------------\n"
     ]
    },
    {
     "data": {
      "text/plain": [
       "([1; 372; 1; 369; 1], [[0, 2, 0, 0, 0, 1], [0, 1, 0, 1, 1, 0], [1, 0, 0, 0, 2, 0], [1, 0, 1, 0, 0, 1], [0, 0, 1, 2, 0, 0]], Finite field of degree 1 over F_373)"
      ]
     },
     "execution_count": 11,
     "metadata": {},
     "output_type": "execute_result"
    }
   ],
   "source": [
    "ratcoeff, mons, data = interpolate_discr_symbolically(A)\n",
    "coeff_fin, mons_fin, F = interpolate_discr_finitely(A, p = 373)"
   ]
  },
  {
   "cell_type": "code",
   "execution_count": 12,
   "id": "58ab585e",
   "metadata": {},
   "outputs": [
    {
     "data": {
      "text/plain": [
       "5×1 Matrix{Int64}: …"
      ]
     },
     "execution_count": 12,
     "metadata": {},
     "output_type": "execute_result"
    }
   ],
   "source": [
    "intcoeff = Matrix(integral_coeffs(ratcoeff))\n",
    "intcoeff = [c.num for c in intcoeff]"
   ]
  },
  {
   "cell_type": "code",
   "execution_count": 13,
   "id": "008f8254",
   "metadata": {},
   "outputs": [
    {
     "data": {
      "text/plain": [
       "5-element Vector{Matrix{Int64}}: …"
      ]
     },
     "execution_count": 13,
     "metadata": {},
     "output_type": "execute_result"
    }
   ],
   "source": [
    "primes = [373, 4289, 1697, 263, 941]\n",
    "#How to turn finite-field element into integer?!\n",
    "fin_coeffs = [ intcoeff.%p for p in primes]\n",
    "fin_coeffs_pert = [ (rand(1:p-1).*(intcoeff.%p)).%p for p in primes]"
   ]
  },
  {
   "cell_type": "code",
   "execution_count": 14,
   "id": "6d4ed1b1",
   "metadata": {},
   "outputs": [],
   "source": [
    "\n",
    "\n",
    "inverses = zeros(Int64, (length(primes), length(primes)))\n",
    "for i in 1:length(primes), j in 1:length(primes)\n",
    "    if i != j\n",
    "        inverses[i, j] = invmod(primes[i], primes[j])\n",
    "    end\n",
    "end\n",
    "\n",
    "n = prod(primes)\n",
    "idempots = ones(fmpz, length(primes))\n",
    "for i in 1:length(primes)\n",
    "    for j in 1:length(primes)\n",
    "        if  j != i\n",
    "            idempots[i] = (idempots[i] * primes[j] * inverses[j, i]) % n\n",
    "        end\n",
    "    end\n",
    "end\n"
   ]
  },
  {
   "cell_type": "code",
   "execution_count": 15,
   "id": "2a130b7e",
   "metadata": {},
   "outputs": [
    {
     "data": {
      "text/plain": [
       "5-element Vector{fmpz}: …"
      ]
     },
     "execution_count": 15,
     "metadata": {},
     "output_type": "execute_result"
    }
   ],
   "source": [
    "\n",
    "coeff_reconstr = reconstruct_coeff(fin_coeffs, idempots)\n",
    "coeff_reconstr_pert = reconstruct_coeff(fin_coeffs_pert, idempots)"
   ]
  },
  {
   "cell_type": "code",
   "execution_count": 16,
   "id": "b42cbffb",
   "metadata": {},
   "outputs": [
    {
     "data": {
      "text/plain": [
       "\"fmpz[1, -1, 1, -4, 1]\""
      ]
     },
     "execution_count": 16,
     "metadata": {},
     "output_type": "execute_result"
    }
   ],
   "source": [
    "string(coeff_reconstr)"
   ]
  },
  {
   "cell_type": "code",
   "execution_count": 17,
   "id": "2caeded9",
   "metadata": {},
   "outputs": [
    {
     "data": {
      "text/plain": [
       "\"fmpz[457366219894524, -457366219894524, 457366219894524, -485703707710402, 457366219894524]\""
      ]
     },
     "execution_count": 17,
     "metadata": {},
     "output_type": "execute_result"
    }
   ],
   "source": [
    "string(coeff_reconstr_pert)"
   ]
  },
  {
   "cell_type": "code",
   "execution_count": 18,
   "id": "51547947",
   "metadata": {},
   "outputs": [
    {
     "data": {
      "text/plain": [
       "671880585933847"
      ]
     },
     "execution_count": 18,
     "metadata": {},
     "output_type": "execute_result"
    }
   ],
   "source": [
    "n"
   ]
  },
  {
   "cell_type": "code",
   "execution_count": null,
   "id": "34954f82",
   "metadata": {},
   "outputs": [],
   "source": []
  },
  {
   "cell_type": "code",
   "execution_count": null,
   "id": "609baf6d",
   "metadata": {},
   "outputs": [],
   "source": []
  },
  {
   "cell_type": "code",
   "execution_count": 10,
   "id": "1a471527",
   "metadata": {},
   "outputs": [
    {
     "data": {
      "text/plain": [
       "compare_results (generic function with 1 method)"
      ]
     },
     "execution_count": 10,
     "metadata": {},
     "output_type": "execute_result"
    }
   ],
   "source": [
    "\n",
    "function reconstruct_coeff(fin_coeffs, idempots)\n",
    "    hcat(fin_coeffs ...) * idempots .%n\n",
    "end\n",
    "\n",
    "\n",
    "\n",
    "function integral_coeffs(ratcoeff)\n",
    "    denom = lcm([BigInt(c.den) for c in ratcoeff])\n",
    "    Matrix(ratcoeff.*denom)\n",
    "end\n",
    "function compare_results(ratcoeff, coeff_fin, F)\n",
    "    intcoeff = integral_coeffs(ratcoeff)\n",
    "    rats = [ F(coeff) ÷ F(intcoeff[1]) for coeff in intcoeff]\n",
    "    rats2 = [ coeff ÷ coeff_fin[1] for coeff in coeff_fin]\n",
    "    sum((rats-rats2).!=0) == 0\n",
    "end\n"
   ]
  },
  {
   "cell_type": "code",
   "execution_count": null,
   "id": "6e9f72dd",
   "metadata": {},
   "outputs": [],
   "source": []
  },
  {
   "cell_type": "code",
   "execution_count": null,
   "id": "67635bfc",
   "metadata": {},
   "outputs": [],
   "source": []
  }
 ],
 "metadata": {
  "kernelspec": {
   "display_name": "Julia 1.6.2",
   "language": "julia",
   "name": "julia-1.6"
  },
  "language_info": {
   "file_extension": ".jl",
   "mimetype": "application/julia",
   "name": "julia",
   "version": "1.6.2"
  }
 },
 "nbformat": 4,
 "nbformat_minor": 5
}
